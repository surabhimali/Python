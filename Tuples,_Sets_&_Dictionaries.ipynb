{
  "nbformat": 4,
  "nbformat_minor": 0,
  "metadata": {
    "kernelspec": {
      "display_name": "Python 3",
      "language": "python",
      "name": "python3"
    },
    "language_info": {
      "codemirror_mode": {
        "name": "ipython",
        "version": 3
      },
      "file_extension": ".py",
      "mimetype": "text/x-python",
      "name": "python",
      "nbconvert_exporter": "python",
      "pygments_lexer": "ipython3",
      "version": "3.7.4"
    },
    "colab": {
      "provenance": [],
      "collapsed_sections": [
        "v_Dz0Rf8x2wZ",
        "6NaL3DU1x2w1",
        "INOUJ-IJx2w1",
        "6MHUetrLx2w6",
        "o_B-5yhsx2w-",
        "FY0pToLax2xO",
        "yMYuf2Hvx2xV",
        "YMD--2K9x2xe",
        "McnlvCvFx2x4",
        "Y579P1fwx2yN",
        "Ehae_5psx2yT",
        "J78K33lKx2yh",
        "-imPGLIHx2ym",
        "nJm-OfZDx2yq",
        "syQXm4jBx2yx",
        "J44Z9VfMx2y9",
        "uL7e7NDox2y9",
        "tUaGyAtdx2y_",
        "_nSqsOiax2zB",
        "WsRmOWzVx2zG",
        "KdEUV4J3x2zT",
        "Rnlnm59rx2zi",
        "IC5NCQkmx2zl",
        "M2AfPxHSx2zp"
      ],
      "include_colab_link": true
    }
  },
  "cells": [
    {
      "cell_type": "markdown",
      "metadata": {
        "id": "view-in-github",
        "colab_type": "text"
      },
      "source": [
        "<a href=\"https://colab.research.google.com/github/surabhimali/Python/blob/main/Tuples%2C_Sets_%26_Dictionaries.ipynb\" target=\"_parent\"><img src=\"https://colab.research.google.com/assets/colab-badge.svg\" alt=\"Open In Colab\"/></a>"
      ]
    },
    {
      "cell_type": "markdown",
      "metadata": {
        "id": "XyN6An5ux2v8"
      },
      "source": [
        "# Tuples\n",
        "\n",
        "* In Python tuples are very similar to lists, however, unlike lists they are *immutable* meaning they can not be changed.\n",
        "\n",
        "\n",
        "* You would use tuples to present things that shouldn't be changed, such as days of the week, or dates on a calendar.\n",
        "\n",
        "\n",
        "* You'll have an intuition of how to use tuples based on what you've learned about lists. We can treat them very similarly with the <u>major distinction being that tuples are immutable</u>.\n",
        "\n",
        "\n",
        "## Constructing Tuples\n",
        "\n",
        "* The construction of a tuples use <code>()</code> with elements separated by commas."
      ]
    },
    {
      "cell_type": "code",
      "metadata": {
        "id": "v6uqrGdAx2v-"
      },
      "source": [
        "# Create a tuple\n",
        "my_tuple = (1,'a',3)"
      ],
      "execution_count": 1,
      "outputs": []
    },
    {
      "cell_type": "code",
      "metadata": {
        "id": "AJWmfPGsx2wC",
        "colab": {
          "base_uri": "https://localhost:8080/"
        },
        "outputId": "b2b356e1-d78f-4c28-e38d-698f07b12559"
      },
      "source": [
        "print(my_tuple)"
      ],
      "execution_count": 2,
      "outputs": [
        {
          "output_type": "stream",
          "name": "stdout",
          "text": [
            "(1, 'a', 3)\n"
          ]
        }
      ]
    },
    {
      "cell_type": "code",
      "metadata": {
        "colab": {
          "base_uri": "https://localhost:8080/"
        },
        "id": "fxgESNwMThmv",
        "outputId": "004adb90-f9fc-43f2-ceff-83b7a2916de7"
      },
      "source": [
        "type(my_tuple)"
      ],
      "execution_count": 3,
      "outputs": [
        {
          "output_type": "execute_result",
          "data": {
            "text/plain": [
              "tuple"
            ]
          },
          "metadata": {},
          "execution_count": 3
        }
      ]
    },
    {
      "cell_type": "code",
      "metadata": {
        "id": "6Q1TOAyNx2wG",
        "colab": {
          "base_uri": "https://localhost:8080/"
        },
        "outputId": "2cc04de4-52cd-4208-bfb9-fadfced53804"
      },
      "source": [
        "# Can also mix object types\n",
        "another_tuple = ('one',2, 4.53, 'asbc')\n",
        "\n",
        "# Show\n",
        "another_tuple"
      ],
      "execution_count": 4,
      "outputs": [
        {
          "output_type": "execute_result",
          "data": {
            "text/plain": [
              "('one', 2, 4.53, 'asbc')"
            ]
          },
          "metadata": {},
          "execution_count": 4
        }
      ]
    },
    {
      "cell_type": "code",
      "metadata": {
        "id": "rdMQ9x4lwN3f"
      },
      "source": [
        "my_list = [1]"
      ],
      "execution_count": 5,
      "outputs": []
    },
    {
      "cell_type": "code",
      "metadata": {
        "id": "N_mlfU7FwOnX",
        "colab": {
          "base_uri": "https://localhost:8080/"
        },
        "outputId": "bc586cfe-78d2-440e-bcc8-6b9e375d6dfc"
      },
      "source": [
        "type(my_list)"
      ],
      "execution_count": 6,
      "outputs": [
        {
          "output_type": "execute_result",
          "data": {
            "text/plain": [
              "list"
            ]
          },
          "metadata": {},
          "execution_count": 6
        }
      ]
    },
    {
      "cell_type": "code",
      "metadata": {
        "id": "Qg1qp0jGwPRZ"
      },
      "source": [
        "my_tuple = (1,)"
      ],
      "execution_count": 7,
      "outputs": []
    },
    {
      "cell_type": "code",
      "metadata": {
        "id": "dFs4gMVowaRh",
        "colab": {
          "base_uri": "https://localhost:8080/"
        },
        "outputId": "f5de599f-2ab5-4bfa-93d0-7b3786ec0ef0"
      },
      "source": [
        "type(my_tuple)"
      ],
      "execution_count": 8,
      "outputs": [
        {
          "output_type": "execute_result",
          "data": {
            "text/plain": [
              "tuple"
            ]
          },
          "metadata": {},
          "execution_count": 8
        }
      ]
    },
    {
      "cell_type": "code",
      "metadata": {
        "id": "dpbiMeBzUkA5"
      },
      "source": [
        "my_tuple = 1,2,3"
      ],
      "execution_count": 9,
      "outputs": []
    },
    {
      "cell_type": "code",
      "metadata": {
        "id": "mhzDE0a5wzsN",
        "colab": {
          "base_uri": "https://localhost:8080/"
        },
        "outputId": "81cecc0f-c1a2-4b17-8fc7-e55aeb352835"
      },
      "source": [
        "type(my_tuple)"
      ],
      "execution_count": 10,
      "outputs": [
        {
          "output_type": "execute_result",
          "data": {
            "text/plain": [
              "tuple"
            ]
          },
          "metadata": {},
          "execution_count": 10
        }
      ]
    },
    {
      "cell_type": "code",
      "metadata": {
        "id": "3XasyDgzwaft"
      },
      "source": [
        "my_tuple = (1,2,3,4)"
      ],
      "execution_count": 11,
      "outputs": []
    },
    {
      "cell_type": "code",
      "metadata": {
        "id": "huPIwRVVx2wK",
        "colab": {
          "base_uri": "https://localhost:8080/"
        },
        "outputId": "a9168e31-84a0-4a16-92ce-cac4efb4fa30"
      },
      "source": [
        "len(my_tuple)"
      ],
      "execution_count": 12,
      "outputs": [
        {
          "output_type": "execute_result",
          "data": {
            "text/plain": [
              "4"
            ]
          },
          "metadata": {},
          "execution_count": 12
        }
      ]
    },
    {
      "cell_type": "markdown",
      "metadata": {
        "id": "QutmafNzx2wN"
      },
      "source": [
        "## Tuple Indexing\n",
        "\n",
        "* Indexing work just like in lists.\n",
        "\n",
        "\n",
        "* A tuple index refers to the location of an element in a tuple.\n",
        "\n",
        "\n",
        "* Remember the indexing begins from 0 in Python.\n",
        "\n",
        "\n",
        "* The first element is assigned an index 0, the second element is assigned an index of 1 and so on and so forth."
      ]
    },
    {
      "cell_type": "code",
      "metadata": {
        "colab": {
          "base_uri": "https://localhost:8080/"
        },
        "id": "ZpAn22VZV5o7",
        "outputId": "4a9ecb4c-5f9a-49b5-df3c-b02ac5def39b"
      },
      "source": [
        "print(another_tuple)"
      ],
      "execution_count": 13,
      "outputs": [
        {
          "output_type": "stream",
          "name": "stdout",
          "text": [
            "('one', 2, 4.53, 'asbc')\n"
          ]
        }
      ]
    },
    {
      "cell_type": "code",
      "metadata": {
        "id": "wcxawypZx2wN",
        "colab": {
          "base_uri": "https://localhost:8080/",
          "height": 36
        },
        "outputId": "5e06d730-a677-4320-c461-062e36cd3c7f"
      },
      "source": [
        "# Grab the element at index 0, which is the FIRST element\n",
        "another_tuple[0]"
      ],
      "execution_count": 14,
      "outputs": [
        {
          "output_type": "execute_result",
          "data": {
            "text/plain": [
              "'one'"
            ],
            "application/vnd.google.colaboratory.intrinsic+json": {
              "type": "string"
            }
          },
          "metadata": {},
          "execution_count": 14
        }
      ]
    },
    {
      "cell_type": "code",
      "metadata": {
        "id": "cGmGukFtx2wR",
        "colab": {
          "base_uri": "https://localhost:8080/",
          "height": 36
        },
        "outputId": "e6a7f9ac-0b58-442b-a546-9902d5acab4d"
      },
      "source": [
        "# Grab the element at index 3, which is the FOURTH element\n",
        "another_tuple[3]"
      ],
      "execution_count": 15,
      "outputs": [
        {
          "output_type": "execute_result",
          "data": {
            "text/plain": [
              "'asbc'"
            ],
            "application/vnd.google.colaboratory.intrinsic+json": {
              "type": "string"
            }
          },
          "metadata": {},
          "execution_count": 15
        }
      ]
    },
    {
      "cell_type": "code",
      "metadata": {
        "id": "juNr6LZnx2wU",
        "colab": {
          "base_uri": "https://localhost:8080/",
          "height": 36
        },
        "outputId": "f88a48c4-4b7e-4ef2-d805-aecfd5b24bf7"
      },
      "source": [
        "# Grab the element at the index -1, which is the LAST element\n",
        "another_tuple[-1]"
      ],
      "execution_count": 16,
      "outputs": [
        {
          "output_type": "execute_result",
          "data": {
            "text/plain": [
              "'asbc'"
            ],
            "application/vnd.google.colaboratory.intrinsic+json": {
              "type": "string"
            }
          },
          "metadata": {},
          "execution_count": 16
        }
      ]
    },
    {
      "cell_type": "code",
      "metadata": {
        "id": "bZiLXFa3x2wX",
        "colab": {
          "base_uri": "https://localhost:8080/"
        },
        "outputId": "f87f4ff8-1a82-4982-ed17-da8c22830291"
      },
      "source": [
        "# Grab the element at the index -3, which is the THIRD LAST element\n",
        "another_tuple[-3]"
      ],
      "execution_count": 17,
      "outputs": [
        {
          "output_type": "execute_result",
          "data": {
            "text/plain": [
              "2"
            ]
          },
          "metadata": {},
          "execution_count": 17
        }
      ]
    },
    {
      "cell_type": "markdown",
      "metadata": {
        "id": "v_Dz0Rf8x2wZ"
      },
      "source": [
        "## Tuple Slicing\n",
        "\n",
        "* We can use a <code>:</code> to perform *slicing* which grabs everything up to a designated point.\n",
        "\n",
        "\n",
        "* The starting index is specified on the left of the <code>:</code> and the ending index is specified on the right of the <code>:</code>.\n",
        "\n",
        "\n",
        "* Remember the element located at the right index is not included."
      ]
    },
    {
      "cell_type": "code",
      "metadata": {
        "id": "gpNaAjgLx2wZ",
        "colab": {
          "base_uri": "https://localhost:8080/"
        },
        "outputId": "4ec52122-92f7-4f3b-aed0-d9697f116dda"
      },
      "source": [
        "# Print our list\n",
        "print(another_tuple)"
      ],
      "execution_count": 18,
      "outputs": [
        {
          "output_type": "stream",
          "name": "stdout",
          "text": [
            "('one', 2, 4.53, 'asbc')\n"
          ]
        }
      ]
    },
    {
      "cell_type": "code",
      "metadata": {
        "id": "KOVYp2O-x2wc",
        "colab": {
          "base_uri": "https://localhost:8080/"
        },
        "outputId": "75660784-30d6-452c-b625-b6a68b58fcbf"
      },
      "source": [
        "# Grab the elements starting from index 1 and everything past it\n",
        "another_tuple[1:3]"
      ],
      "execution_count": 19,
      "outputs": [
        {
          "output_type": "execute_result",
          "data": {
            "text/plain": [
              "(2, 4.53)"
            ]
          },
          "metadata": {},
          "execution_count": 19
        }
      ]
    },
    {
      "cell_type": "markdown",
      "metadata": {
        "id": "tRf9M55tx2wf"
      },
      "source": [
        "* If you do not specify the ending index, then all elements are extracted which comes after the starting index including the element at that starting index. The operation knows only to stop when it has run through the entire tuple."
      ]
    },
    {
      "cell_type": "code",
      "metadata": {
        "id": "qP9KxBbwx2wf",
        "colab": {
          "base_uri": "https://localhost:8080/"
        },
        "outputId": "81b0f139-e644-46c1-b4cf-e11de28a0607"
      },
      "source": [
        "# Grab everything starting from index 2\n",
        "another_tuple[2:]"
      ],
      "execution_count": 20,
      "outputs": [
        {
          "output_type": "execute_result",
          "data": {
            "text/plain": [
              "(4.53, 'asbc')"
            ]
          },
          "metadata": {},
          "execution_count": 20
        }
      ]
    },
    {
      "cell_type": "markdown",
      "metadata": {
        "id": "PgKv1f2qx2wj"
      },
      "source": [
        "* If you do not specify the starting index, then all elements are extracted which comes befores the ending index excluding the element at the specified ending index. The operation knows only to stop when it has extracted all elements before the  element at the ending index."
      ]
    },
    {
      "cell_type": "code",
      "metadata": {
        "id": "u_kPO20kx2wj",
        "colab": {
          "base_uri": "https://localhost:8080/"
        },
        "outputId": "ed04b7fe-e0ed-4771-ddfb-f1eff4149a55"
      },
      "source": [
        "# Grab everything before the index 4\n",
        "another_tuple[:6]"
      ],
      "execution_count": 21,
      "outputs": [
        {
          "output_type": "execute_result",
          "data": {
            "text/plain": [
              "('one', 2, 4.53, 'asbc')"
            ]
          },
          "metadata": {},
          "execution_count": 21
        }
      ]
    },
    {
      "cell_type": "markdown",
      "metadata": {
        "id": "1qkOSf_Vx2wn"
      },
      "source": [
        "* If you do not specify the starting and the ending index, it will extract all elements of the tuple."
      ]
    },
    {
      "cell_type": "code",
      "metadata": {
        "id": "2dIvFwW9x2wn",
        "colab": {
          "base_uri": "https://localhost:8080/"
        },
        "outputId": "fe5f4cd4-2de7-4fbd-8ae7-26babad24cd1"
      },
      "source": [
        "# Grab everything\n",
        "another_tuple"
      ],
      "execution_count": 22,
      "outputs": [
        {
          "output_type": "execute_result",
          "data": {
            "text/plain": [
              "('one', 2, 4.53, 'asbc')"
            ]
          },
          "metadata": {},
          "execution_count": 22
        }
      ]
    },
    {
      "cell_type": "markdown",
      "metadata": {
        "id": "SdKU_cPFx2wp"
      },
      "source": [
        "* We can also extract the last four elements. Remember we can use the index -4 to extract the FOURTH LAST element"
      ]
    },
    {
      "cell_type": "code",
      "metadata": {
        "id": "gvcyMuHkx2wq",
        "colab": {
          "base_uri": "https://localhost:8080/"
        },
        "outputId": "500cfe10-4e3d-4871-d176-3d93a7116619"
      },
      "source": [
        "# Grab the LAST FOUR elements of the list\n",
        "another_tuple[-4:]"
      ],
      "execution_count": 23,
      "outputs": [
        {
          "output_type": "execute_result",
          "data": {
            "text/plain": [
              "('one', 2, 4.53, 'asbc')"
            ]
          },
          "metadata": {},
          "execution_count": 23
        }
      ]
    },
    {
      "cell_type": "markdown",
      "metadata": {
        "id": "9lCrYVHmx2ws"
      },
      "source": [
        "* It should also be noted that tuple indexing will return an error if there is no element at that index."
      ]
    },
    {
      "cell_type": "code",
      "metadata": {
        "id": "qbHiONdnx2wt",
        "colab": {
          "base_uri": "https://localhost:8080/",
          "height": 175
        },
        "outputId": "942dd3ef-157d-4776-8c65-307312d61530"
      },
      "source": [
        "another_tuple[5]"
      ],
      "execution_count": 24,
      "outputs": [
        {
          "output_type": "error",
          "ename": "IndexError",
          "evalue": "ignored",
          "traceback": [
            "\u001b[0;31m---------------------------------------------------------------------------\u001b[0m",
            "\u001b[0;31mIndexError\u001b[0m                                Traceback (most recent call last)",
            "\u001b[0;32m<ipython-input-24-3d51a942c11d>\u001b[0m in \u001b[0;36m<cell line: 1>\u001b[0;34m()\u001b[0m\n\u001b[0;32m----> 1\u001b[0;31m \u001b[0manother_tuple\u001b[0m\u001b[0;34m[\u001b[0m\u001b[0;36m5\u001b[0m\u001b[0;34m]\u001b[0m\u001b[0;34m\u001b[0m\u001b[0;34m\u001b[0m\u001b[0m\n\u001b[0m",
            "\u001b[0;31mIndexError\u001b[0m: tuple index out of range"
          ]
        }
      ]
    },
    {
      "cell_type": "code",
      "metadata": {
        "id": "CzJEQohvx2wy",
        "colab": {
          "base_uri": "https://localhost:8080/",
          "height": 192
        },
        "outputId": "ec818d7c-017b-4d4a-dbc8-f10328c5ccd0"
      },
      "source": [
        "# Check len just like a list\n",
        "len(another_tuple)"
      ],
      "execution_count": 1,
      "outputs": [
        {
          "output_type": "error",
          "ename": "NameError",
          "evalue": "ignored",
          "traceback": [
            "\u001b[0;31m---------------------------------------------------------------------------\u001b[0m",
            "\u001b[0;31mNameError\u001b[0m                                 Traceback (most recent call last)",
            "\u001b[0;32m<ipython-input-1-70cfaec9bb1e>\u001b[0m in \u001b[0;36m<cell line: 2>\u001b[0;34m()\u001b[0m\n\u001b[1;32m      1\u001b[0m \u001b[0;31m# Check len just like a list\u001b[0m\u001b[0;34m\u001b[0m\u001b[0;34m\u001b[0m\u001b[0m\n\u001b[0;32m----> 2\u001b[0;31m \u001b[0mlen\u001b[0m\u001b[0;34m(\u001b[0m\u001b[0manother_tuple\u001b[0m\u001b[0;34m)\u001b[0m\u001b[0;34m\u001b[0m\u001b[0;34m\u001b[0m\u001b[0m\n\u001b[0m",
            "\u001b[0;31mNameError\u001b[0m: name 'another_tuple' is not defined"
          ]
        }
      ]
    },
    {
      "cell_type": "code",
      "metadata": {
        "id": "voUVF0NfyuM9"
      },
      "source": [
        "random_tuple = (1,5,6,2)"
      ],
      "execution_count": null,
      "outputs": []
    },
    {
      "cell_type": "code",
      "metadata": {
        "id": "EbGyqDzUyyX6"
      },
      "source": [
        "sorted(random_tuple)"
      ],
      "execution_count": null,
      "outputs": []
    },
    {
      "cell_type": "markdown",
      "metadata": {
        "id": "6NaL3DU1x2w1"
      },
      "source": [
        "## Tuple Methods\n",
        "\n",
        "* Tuples have built-in methods, but not as many as lists do."
      ]
    },
    {
      "cell_type": "markdown",
      "metadata": {
        "id": "INOUJ-IJx2w1"
      },
      "source": [
        "### <code>index()</code>\n",
        "\n",
        "\n",
        "* The <code>index()</code> method returns the index of a specified element."
      ]
    },
    {
      "cell_type": "code",
      "metadata": {
        "id": "PxssLKRkx2w2"
      },
      "source": [
        "my_tuple =(1,2,3,4,5,6,1,1,2)"
      ],
      "execution_count": 5,
      "outputs": []
    },
    {
      "cell_type": "code",
      "metadata": {
        "id": "5YOxgp1Xx2w4",
        "colab": {
          "base_uri": "https://localhost:8080/"
        },
        "outputId": "21966d3b-9322-4578-b93a-fcba8c56faae"
      },
      "source": [
        "# Use .index to enter a value and return the index\n",
        "my_tuple.index(2)"
      ],
      "execution_count": 6,
      "outputs": [
        {
          "output_type": "execute_result",
          "data": {
            "text/plain": [
              "1"
            ]
          },
          "metadata": {},
          "execution_count": 6
        }
      ]
    },
    {
      "cell_type": "markdown",
      "metadata": {
        "id": "6MHUetrLx2w6"
      },
      "source": [
        "### <code>count()</code>\n",
        "\n",
        "\n",
        "* The <code>count()</code> method returns the total occurrence of a specified element in a tuple"
      ]
    },
    {
      "cell_type": "code",
      "metadata": {
        "id": "InNQ8DqUx2w6",
        "colab": {
          "base_uri": "https://localhost:8080/"
        },
        "outputId": "acc910d5-140f-44d9-bf30-355c339e5e89"
      },
      "source": [
        "# Use .count to count the number of times a value appears\n",
        "my_tuple.count(2)"
      ],
      "execution_count": 7,
      "outputs": [
        {
          "output_type": "execute_result",
          "data": {
            "text/plain": [
              "2"
            ]
          },
          "metadata": {},
          "execution_count": 7
        }
      ]
    },
    {
      "cell_type": "code",
      "metadata": {
        "id": "cINAVl65x2w8",
        "colab": {
          "base_uri": "https://localhost:8080/"
        },
        "outputId": "037098f1-ed60-49b8-8495-28680676845b"
      },
      "source": [
        "my_tuple.count(1)"
      ],
      "execution_count": 8,
      "outputs": [
        {
          "output_type": "execute_result",
          "data": {
            "text/plain": [
              "3"
            ]
          },
          "metadata": {},
          "execution_count": 8
        }
      ]
    },
    {
      "cell_type": "code",
      "metadata": {
        "id": "FJwxB5x3ZRQw",
        "colab": {
          "base_uri": "https://localhost:8080/"
        },
        "outputId": "d20d3e68-311c-4af5-ce71-48249db17b22"
      },
      "source": [
        "my_tuple"
      ],
      "execution_count": 12,
      "outputs": [
        {
          "output_type": "execute_result",
          "data": {
            "text/plain": [
              "(1, 2, 3, 4, 5, 6, 1, 1, 2)"
            ]
          },
          "metadata": {},
          "execution_count": 12
        }
      ]
    },
    {
      "cell_type": "code",
      "metadata": {
        "id": "77eLJW6VZVbA"
      },
      "source": [
        "my_list = [1,2,3,4]"
      ],
      "execution_count": 10,
      "outputs": []
    },
    {
      "cell_type": "code",
      "metadata": {
        "id": "7az6tjANZXXA",
        "colab": {
          "base_uri": "https://localhost:8080/"
        },
        "outputId": "e2482df2-083e-4a63-efd6-d88fc04c7a02"
      },
      "source": [
        "my_list"
      ],
      "execution_count": 14,
      "outputs": [
        {
          "output_type": "execute_result",
          "data": {
            "text/plain": [
              "[1, 2, 3, 4]"
            ]
          },
          "metadata": {},
          "execution_count": 14
        }
      ]
    },
    {
      "cell_type": "markdown",
      "metadata": {
        "id": "o_B-5yhsx2w-"
      },
      "source": [
        "## Immutability\n",
        "\n",
        "* It can't be stressed enough that tuples are immutable."
      ]
    },
    {
      "cell_type": "code",
      "metadata": {
        "colab": {
          "base_uri": "https://localhost:8080/"
        },
        "id": "eVHBqLlkZ79R",
        "outputId": "c8aaffdd-4e37-4af2-a718-993f0aad4a52"
      },
      "source": [
        "print(my_tuple)"
      ],
      "execution_count": 15,
      "outputs": [
        {
          "output_type": "stream",
          "name": "stdout",
          "text": [
            "(1, 2, 3, 4, 5, 6, 1, 1, 2)\n"
          ]
        }
      ]
    },
    {
      "cell_type": "code",
      "metadata": {
        "id": "VO93y72Gx2w_",
        "colab": {
          "base_uri": "https://localhost:8080/"
        },
        "outputId": "5368670a-f79c-4de6-fa03-a85f6e6b5c7d"
      },
      "source": [
        "my_tuple[0]"
      ],
      "execution_count": 16,
      "outputs": [
        {
          "output_type": "execute_result",
          "data": {
            "text/plain": [
              "1"
            ]
          },
          "metadata": {},
          "execution_count": 16
        }
      ]
    },
    {
      "cell_type": "code",
      "metadata": {
        "id": "w5IKgVqkx2xB",
        "colab": {
          "base_uri": "https://localhost:8080/",
          "height": 175
        },
        "outputId": "3f661089-f1b6-4bf6-c235-b793b4ed3f90"
      },
      "source": [
        "my_tuple[0] = 'change'"
      ],
      "execution_count": 17,
      "outputs": [
        {
          "output_type": "error",
          "ename": "TypeError",
          "evalue": "ignored",
          "traceback": [
            "\u001b[0;31m---------------------------------------------------------------------------\u001b[0m",
            "\u001b[0;31mTypeError\u001b[0m                                 Traceback (most recent call last)",
            "\u001b[0;32m<ipython-input-17-1113c19e61ee>\u001b[0m in \u001b[0;36m<cell line: 1>\u001b[0;34m()\u001b[0m\n\u001b[0;32m----> 1\u001b[0;31m \u001b[0mmy_tuple\u001b[0m\u001b[0;34m[\u001b[0m\u001b[0;36m0\u001b[0m\u001b[0;34m]\u001b[0m \u001b[0;34m=\u001b[0m \u001b[0;34m'change'\u001b[0m\u001b[0;34m\u001b[0m\u001b[0;34m\u001b[0m\u001b[0m\n\u001b[0m",
            "\u001b[0;31mTypeError\u001b[0m: 'tuple' object does not support item assignment"
          ]
        }
      ]
    },
    {
      "cell_type": "markdown",
      "metadata": {
        "id": "AY5i1-jrx2xD"
      },
      "source": [
        "* Because of this immutability, tuples can't grow. Once a tuple is made we can not add to it."
      ]
    },
    {
      "cell_type": "markdown",
      "metadata": {
        "id": "Wu7kIjSNx2xE"
      },
      "source": [
        "* Let us consider a list and lets see if we can do this operation on them"
      ]
    },
    {
      "cell_type": "code",
      "metadata": {
        "id": "iv-fMwN-x2xE"
      },
      "source": [
        "# Create a list\n",
        "my_list = [5,7,9,3,2]"
      ],
      "execution_count": 18,
      "outputs": []
    },
    {
      "cell_type": "code",
      "metadata": {
        "id": "7tzllaFJx2xG"
      },
      "source": [
        "# Replace the FIRST element with the value 1\n",
        "my_list[0] = 1"
      ],
      "execution_count": 19,
      "outputs": []
    },
    {
      "cell_type": "code",
      "metadata": {
        "id": "Srx-bzhDx2xJ",
        "colab": {
          "base_uri": "https://localhost:8080/"
        },
        "outputId": "1631fee3-06a0-4287-a01c-c01c6a646fc5"
      },
      "source": [
        "# Our modified list\n",
        "my_list"
      ],
      "execution_count": 20,
      "outputs": [
        {
          "output_type": "execute_result",
          "data": {
            "text/plain": [
              "[1, 7, 9, 3, 2]"
            ]
          },
          "metadata": {},
          "execution_count": 20
        }
      ]
    },
    {
      "cell_type": "markdown",
      "metadata": {
        "id": "4JSa0bw9x2xL"
      },
      "source": [
        "* Tuple does not support methods such as <code>append()</code>, <code>extend()</code>, <code>remove()</code>, <code>pop()</code>"
      ]
    },
    {
      "cell_type": "code",
      "metadata": {
        "id": "zY0mWGohx2xM",
        "colab": {
          "base_uri": "https://localhost:8080/",
          "height": 175
        },
        "outputId": "6801774a-7a39-474d-e1c7-3f4b62b01e30"
      },
      "source": [
        "my_tuple.append('Great!')"
      ],
      "execution_count": 21,
      "outputs": [
        {
          "output_type": "error",
          "ename": "AttributeError",
          "evalue": "ignored",
          "traceback": [
            "\u001b[0;31m---------------------------------------------------------------------------\u001b[0m",
            "\u001b[0;31mAttributeError\u001b[0m                            Traceback (most recent call last)",
            "\u001b[0;32m<ipython-input-21-762f4e61335a>\u001b[0m in \u001b[0;36m<cell line: 1>\u001b[0;34m()\u001b[0m\n\u001b[0;32m----> 1\u001b[0;31m \u001b[0mmy_tuple\u001b[0m\u001b[0;34m.\u001b[0m\u001b[0mappend\u001b[0m\u001b[0;34m(\u001b[0m\u001b[0;34m'Great!'\u001b[0m\u001b[0;34m)\u001b[0m\u001b[0;34m\u001b[0m\u001b[0;34m\u001b[0m\u001b[0m\n\u001b[0m",
            "\u001b[0;31mAttributeError\u001b[0m: 'tuple' object has no attribute 'append'"
          ]
        }
      ]
    },
    {
      "cell_type": "markdown",
      "metadata": {
        "id": "FY0pToLax2xO"
      },
      "source": [
        "### <code>zip()</code>\n",
        "\n",
        "\n",
        "* <code>zip()</code> function takes multiple lists as arguments and zips them together\n",
        "\n",
        "\n",
        "* This function returns a list of n-paired tuples where n is the number of lists being zipped"
      ]
    },
    {
      "cell_type": "code",
      "metadata": {
        "id": "nZqkre4Ex2xP"
      },
      "source": [
        "city_list = ['Delhi','Patna','Cuttack','Guwahati']\n",
        "river_list = ['Yamuna','Ganga','Mahanadi','Brahmaputra']"
      ],
      "execution_count": 22,
      "outputs": []
    },
    {
      "cell_type": "code",
      "metadata": {
        "colab": {
          "base_uri": "https://localhost:8080/"
        },
        "id": "557Z0mC-cXRE",
        "outputId": "a13c51f1-0a7f-4231-cd2f-647133f524a3"
      },
      "source": [
        "tuple(zip(city_list, river_list))"
      ],
      "execution_count": 30,
      "outputs": [
        {
          "output_type": "execute_result",
          "data": {
            "text/plain": [
              "(('Delhi', 'Yamuna'),\n",
              " ('Patna', 'Ganga'),\n",
              " ('Cuttack', 'Mahanadi'),\n",
              " ('Guwahati', 'Brahamputra'))"
            ]
          },
          "metadata": {},
          "execution_count": 30
        }
      ]
    },
    {
      "cell_type": "code",
      "source": [
        "list(zip(city_list,river_list))"
      ],
      "metadata": {
        "colab": {
          "base_uri": "https://localhost:8080/"
        },
        "id": "hSvA8iGbHuGR",
        "outputId": "efd5239b-0194-4000-9cc5-0a13edfedf89"
      },
      "execution_count": 32,
      "outputs": [
        {
          "output_type": "execute_result",
          "data": {
            "text/plain": [
              "[('Delhi', 'Yamuna'),\n",
              " ('Patna', 'Ganga'),\n",
              " ('Cuttack', 'Mahanadi'),\n",
              " ('Guwahati', 'Brahamputra')]"
            ]
          },
          "metadata": {},
          "execution_count": 32
        }
      ]
    },
    {
      "cell_type": "code",
      "metadata": {
        "id": "Z4nluMN5x2xR"
      },
      "source": [
        "city_and_their_rivers = list(zip(city_list,river_list))"
      ],
      "execution_count": 33,
      "outputs": []
    },
    {
      "cell_type": "code",
      "metadata": {
        "id": "y2NaSS0tx2xT",
        "colab": {
          "base_uri": "https://localhost:8080/"
        },
        "outputId": "cc744fe6-2b8a-427f-84a6-a759e69f5b9e"
      },
      "source": [
        "city_and_their_rivers"
      ],
      "execution_count": 34,
      "outputs": [
        {
          "output_type": "execute_result",
          "data": {
            "text/plain": [
              "[('Delhi', 'Yamuna'),\n",
              " ('Patna', 'Ganga'),\n",
              " ('Cuttack', 'Mahanadi'),\n",
              " ('Guwahati', 'Brahamputra')]"
            ]
          },
          "metadata": {},
          "execution_count": 34
        }
      ]
    },
    {
      "cell_type": "code",
      "metadata": {
        "id": "wx1ha97Hdqy7"
      },
      "source": [
        "city_list = ['Delhi','Patna','Cuttack','Guwahati']\n",
        "river_list = ['Yamuna','Ganga','Mahanadi','Brahamputra','Thames']"
      ],
      "execution_count": 35,
      "outputs": []
    },
    {
      "cell_type": "code",
      "metadata": {
        "colab": {
          "base_uri": "https://localhost:8080/"
        },
        "id": "4VEA76OadwAs",
        "outputId": "65e08cfa-cd51-406c-94a5-df4f0e6d0e7f"
      },
      "source": [
        "list(zip(city_list,river_list))"
      ],
      "execution_count": 36,
      "outputs": [
        {
          "output_type": "execute_result",
          "data": {
            "text/plain": [
              "[('Delhi', 'Yamuna'),\n",
              " ('Patna', 'Ganga'),\n",
              " ('Cuttack', 'Mahanadi'),\n",
              " ('Guwahati', 'Brahamputra')]"
            ]
          },
          "metadata": {},
          "execution_count": 36
        }
      ]
    },
    {
      "cell_type": "markdown",
      "metadata": {
        "id": "yMYuf2Hvx2xV"
      },
      "source": [
        "## When to use Tuples\n",
        "\n",
        "* You may be wondering, \"Why bother using tuples when they have fewer available methods?\" To be honest, tuples are not used as often as lists in programming, but are used when immutability is necessary. If in your program you are passing around an object and need to make sure it does not get changed, then a tuple becomes your solution. It provides a convenient source of data integrity.\n",
        "\n",
        "\n",
        "* You will find them often in functions when you are returning some values\n",
        "\n",
        "\n",
        "* You should now be able to create and use tuples in your programming as well as have an understanding of their immutability."
      ]
    },
    {
      "cell_type": "markdown",
      "metadata": {
        "id": "Fy6-SFXHx2xW"
      },
      "source": [
        "# Sets\n",
        "\n",
        "* Sets are an unordered collection of *unique* elements. We can construct them by using the <code>set()</code> function.\n",
        "\n",
        "\n",
        "* Sets cannot have duplicates.\n",
        "\n",
        "\n",
        "* Sets are mutable just like lists.\n",
        "\n",
        "\n",
        "* You can create a non-empty set with curly braces by specifying elements separated by a comma."
      ]
    },
    {
      "cell_type": "code",
      "metadata": {
        "id": "utCm3Vlmx2xW"
      },
      "source": [
        "# Create an empty set\n",
        "empty_set = set()"
      ],
      "execution_count": 37,
      "outputs": []
    },
    {
      "cell_type": "code",
      "metadata": {
        "id": "Yt9nkoOcx2xY",
        "colab": {
          "base_uri": "https://localhost:8080/"
        },
        "outputId": "b294ae59-0ebb-459a-df86-6f86b5abe48e"
      },
      "source": [
        "type(empty_set)"
      ],
      "execution_count": 38,
      "outputs": [
        {
          "output_type": "execute_result",
          "data": {
            "text/plain": [
              "set"
            ]
          },
          "metadata": {},
          "execution_count": 38
        }
      ]
    },
    {
      "cell_type": "code",
      "metadata": {
        "id": "9mWIu_PFx2xZ"
      },
      "source": [
        "# Create a non-empty set within curly braces\n",
        "non_empty_set = {1,6,4,'abc'}"
      ],
      "execution_count": 39,
      "outputs": []
    },
    {
      "cell_type": "code",
      "metadata": {
        "id": "MDI_a8slx2xb",
        "colab": {
          "base_uri": "https://localhost:8080/"
        },
        "outputId": "0f82995f-2b22-4946-f6d2-b6569194884d"
      },
      "source": [
        "type(non_empty_set)"
      ],
      "execution_count": 40,
      "outputs": [
        {
          "output_type": "execute_result",
          "data": {
            "text/plain": [
              "set"
            ]
          },
          "metadata": {},
          "execution_count": 40
        }
      ]
    },
    {
      "cell_type": "markdown",
      "metadata": {
        "id": "YMD--2K9x2xe"
      },
      "source": [
        "## A Time for Caution\n",
        "\n",
        "* An empty set cannot be represented as <code>{}</code>, which is reserved for an <u>empty dictionary</u> which we will get to know in a short while"
      ]
    },
    {
      "cell_type": "code",
      "metadata": {
        "id": "CohTP3Qfx2xe"
      },
      "source": [
        "my_object = {}"
      ],
      "execution_count": 41,
      "outputs": []
    },
    {
      "cell_type": "code",
      "metadata": {
        "id": "hWTaSIAMx2xg",
        "colab": {
          "base_uri": "https://localhost:8080/"
        },
        "outputId": "2dce6c72-8706-4a64-c018-3635556078c0"
      },
      "source": [
        "type(my_object)"
      ],
      "execution_count": 42,
      "outputs": [
        {
          "output_type": "execute_result",
          "data": {
            "text/plain": [
              "dict"
            ]
          },
          "metadata": {},
          "execution_count": 42
        }
      ]
    },
    {
      "cell_type": "code",
      "metadata": {
        "id": "kMaqioALx2xj"
      },
      "source": [
        "my_set = set()"
      ],
      "execution_count": 43,
      "outputs": []
    },
    {
      "cell_type": "code",
      "metadata": {
        "id": "Bu1iyqLrx2xl",
        "colab": {
          "base_uri": "https://localhost:8080/"
        },
        "outputId": "c91207c6-ffa4-405e-9fae-7f7224cd7c9f"
      },
      "source": [
        "type(my_set)"
      ],
      "execution_count": 44,
      "outputs": [
        {
          "output_type": "execute_result",
          "data": {
            "text/plain": [
              "set"
            ]
          },
          "metadata": {},
          "execution_count": 44
        }
      ]
    },
    {
      "cell_type": "markdown",
      "metadata": {
        "id": "ctWYu0cUx2xn"
      },
      "source": [
        "*  We can cast a list with multiple repeat elements to a set to get the unique elements."
      ]
    },
    {
      "cell_type": "code",
      "metadata": {
        "id": "sUh8Zv8Rx2xo"
      },
      "source": [
        "# Create a list with repeats\n",
        "my_list = [1,1,2,2,3,4,5,6,1,1]"
      ],
      "execution_count": 45,
      "outputs": []
    },
    {
      "cell_type": "code",
      "metadata": {
        "id": "Kdr-pcGRx2xr"
      },
      "source": [
        "# Cast as set to get unique values\n",
        "my_set = set(my_list)"
      ],
      "execution_count": 46,
      "outputs": []
    },
    {
      "cell_type": "code",
      "metadata": {
        "id": "2nXbPmqRx2xt",
        "colab": {
          "base_uri": "https://localhost:8080/"
        },
        "outputId": "8874b1e7-3077-4572-e838-6d1981411965"
      },
      "source": [
        "my_set"
      ],
      "execution_count": 47,
      "outputs": [
        {
          "output_type": "execute_result",
          "data": {
            "text/plain": [
              "{1, 2, 3, 4, 5, 6}"
            ]
          },
          "metadata": {},
          "execution_count": 47
        }
      ]
    },
    {
      "cell_type": "code",
      "metadata": {
        "id": "XBZqcSLyx2xv"
      },
      "source": [
        "# A set cannot have mutable items\n",
        "my_set = {1, 2, (3, 4)}"
      ],
      "execution_count": 48,
      "outputs": []
    },
    {
      "cell_type": "markdown",
      "metadata": {
        "id": "7GuQNu1ix2xx"
      },
      "source": [
        "* We cannot create a set whose any of the elements is a list"
      ]
    },
    {
      "cell_type": "code",
      "metadata": {
        "id": "lt_RVt86x2xy"
      },
      "source": [
        "# But we can have tuples as set elements, they are immutable\n",
        "my_set = {1, 2, (2,3)}"
      ],
      "execution_count": 49,
      "outputs": []
    },
    {
      "cell_type": "code",
      "metadata": {
        "id": "1dj_FMzkx2x1",
        "colab": {
          "base_uri": "https://localhost:8080/"
        },
        "outputId": "6bab13fd-055d-46c8-f281-327c3531ca84"
      },
      "source": [
        "my_set"
      ],
      "execution_count": 50,
      "outputs": [
        {
          "output_type": "execute_result",
          "data": {
            "text/plain": [
              "{(2, 3), 1, 2}"
            ]
          },
          "metadata": {},
          "execution_count": 50
        }
      ]
    },
    {
      "cell_type": "code",
      "metadata": {
        "id": "WrYzn-Pg72u7",
        "colab": {
          "base_uri": "https://localhost:8080/",
          "height": 175
        },
        "outputId": "08bb72e3-a9c2-433d-c48c-5971760a06b3"
      },
      "source": [
        "my_set = {1,2, {3,5}} # cannot create a set whose any of the elements is a list/ set /dict only tuples are allowed in set"
      ],
      "execution_count": 51,
      "outputs": [
        {
          "output_type": "error",
          "ename": "TypeError",
          "evalue": "ignored",
          "traceback": [
            "\u001b[0;31m---------------------------------------------------------------------------\u001b[0m",
            "\u001b[0;31mTypeError\u001b[0m                                 Traceback (most recent call last)",
            "\u001b[0;32m<ipython-input-51-d1c5730131c5>\u001b[0m in \u001b[0;36m<cell line: 1>\u001b[0;34m()\u001b[0m\n\u001b[0;32m----> 1\u001b[0;31m \u001b[0mmy_set\u001b[0m \u001b[0;34m=\u001b[0m \u001b[0;34m{\u001b[0m\u001b[0;36m1\u001b[0m\u001b[0;34m,\u001b[0m\u001b[0;36m2\u001b[0m\u001b[0;34m,\u001b[0m \u001b[0;34m{\u001b[0m\u001b[0;36m3\u001b[0m\u001b[0;34m,\u001b[0m\u001b[0;36m5\u001b[0m\u001b[0;34m}\u001b[0m\u001b[0;34m}\u001b[0m\u001b[0;34m\u001b[0m\u001b[0;34m\u001b[0m\u001b[0m\n\u001b[0m",
            "\u001b[0;31mTypeError\u001b[0m: unhashable type: 'set'"
          ]
        }
      ]
    },
    {
      "cell_type": "code",
      "metadata": {
        "id": "6Av1DFXg76ii",
        "colab": {
          "base_uri": "https://localhost:8080/"
        },
        "outputId": "41cd0714-c899-42d8-e86d-896b2bf4a0e5"
      },
      "source": [
        "my_set"
      ],
      "execution_count": 52,
      "outputs": [
        {
          "output_type": "execute_result",
          "data": {
            "text/plain": [
              "{(2, 3), 1, 2}"
            ]
          },
          "metadata": {},
          "execution_count": 52
        }
      ]
    },
    {
      "cell_type": "markdown",
      "metadata": {
        "id": "McnlvCvFx2x4"
      },
      "source": [
        "### <code>add()</code>\n",
        "\n",
        "\n",
        "*  <code>add()</code> method adds an element to a set\n",
        "\n",
        "\n",
        "* This method takes the element to be added as an argument"
      ]
    },
    {
      "cell_type": "code",
      "metadata": {
        "id": "gKrGTWaQx2x4"
      },
      "source": [
        "# We add to sets with the add() method\n",
        "my_set = set()\n",
        "my_set.add('a')"
      ],
      "execution_count": 53,
      "outputs": []
    },
    {
      "cell_type": "code",
      "metadata": {
        "id": "COEtoXrZx2x5",
        "colab": {
          "base_uri": "https://localhost:8080/"
        },
        "outputId": "adf801b1-42e2-46f9-9952-b03c176ada53"
      },
      "source": [
        "#Show\n",
        "my_set"
      ],
      "execution_count": 54,
      "outputs": [
        {
          "output_type": "execute_result",
          "data": {
            "text/plain": [
              "{'a'}"
            ]
          },
          "metadata": {},
          "execution_count": 54
        }
      ]
    },
    {
      "cell_type": "code",
      "metadata": {
        "id": "YTh2v7mSx2x8"
      },
      "source": [
        "# Add a different element\n",
        "my_set.add(2)"
      ],
      "execution_count": 55,
      "outputs": []
    },
    {
      "cell_type": "code",
      "metadata": {
        "id": "AsGC5v5Hx2x-",
        "colab": {
          "base_uri": "https://localhost:8080/"
        },
        "outputId": "92464677-46e5-4f87-e886-2a0fd47af202"
      },
      "source": [
        "#Show\n",
        "print(my_set)"
      ],
      "execution_count": 56,
      "outputs": [
        {
          "output_type": "stream",
          "name": "stdout",
          "text": [
            "{'a', 2}\n"
          ]
        }
      ]
    },
    {
      "cell_type": "code",
      "metadata": {
        "id": "t37-ERnhx2yA"
      },
      "source": [
        "# Lets add another element 1\n",
        "my_set.add(1)"
      ],
      "execution_count": 58,
      "outputs": []
    },
    {
      "cell_type": "code",
      "metadata": {
        "id": "aM6UGArnx2yC",
        "outputId": "78d642fd-40f7-4782-dfeb-10bf8357a4d5",
        "colab": {
          "base_uri": "https://localhost:8080/"
        }
      },
      "source": [
        "#Show\n",
        "my_set"
      ],
      "execution_count": 59,
      "outputs": [
        {
          "output_type": "execute_result",
          "data": {
            "text/plain": [
              "{1, 2, 'a'}"
            ]
          },
          "metadata": {},
          "execution_count": 59
        }
      ]
    },
    {
      "cell_type": "code",
      "metadata": {
        "id": "qN4guFeox2yH"
      },
      "source": [
        "# Try to add the same element 1 again\n",
        "my_set.add(1)"
      ],
      "execution_count": 60,
      "outputs": []
    },
    {
      "cell_type": "code",
      "metadata": {
        "id": "AGlDN8Iyx2yK",
        "outputId": "dd44228d-dbfe-499d-a88f-0c60a75b82a8",
        "colab": {
          "base_uri": "https://localhost:8080/"
        }
      },
      "source": [
        "my_set"
      ],
      "execution_count": 61,
      "outputs": [
        {
          "output_type": "execute_result",
          "data": {
            "text/plain": [
              "{1, 2, 'a'}"
            ]
          },
          "metadata": {},
          "execution_count": 61
        }
      ]
    },
    {
      "cell_type": "markdown",
      "metadata": {
        "id": "i2PhWKETx2yN"
      },
      "source": [
        "* Notice how it won't place another 1 there. That's because a set is only concerned with unique elements!"
      ]
    },
    {
      "cell_type": "markdown",
      "metadata": {
        "id": "Y579P1fwx2yN"
      },
      "source": [
        "### <code>update()</code>\n",
        "\n",
        "* <code>update()</code> method helps to add multiple elements to a set"
      ]
    },
    {
      "cell_type": "code",
      "metadata": {
        "id": "-G2U0D2cx2yO"
      },
      "source": [
        "my_set = {5,7,9,3}"
      ],
      "execution_count": 62,
      "outputs": []
    },
    {
      "cell_type": "code",
      "metadata": {
        "id": "jNAbIqwUx2yR",
        "colab": {
          "base_uri": "https://localhost:8080/"
        },
        "outputId": "287cc63e-e50c-4b05-9ecb-f86d48e84778"
      },
      "source": [
        "# add multiple elements\n",
        "my_set.update([2, 3, 4])\n",
        "print(my_set)"
      ],
      "execution_count": 63,
      "outputs": [
        {
          "output_type": "stream",
          "name": "stdout",
          "text": [
            "{2, 3, 4, 5, 7, 9}\n"
          ]
        }
      ]
    },
    {
      "cell_type": "markdown",
      "metadata": {
        "id": "Ehae_5psx2yT"
      },
      "source": [
        "### <code>remove()</code>\n",
        "\n",
        "* Use <code>remove()</code> to remove an item/element from the set.\n",
        "\n",
        "\n",
        "* By default <code>remove()</code> removes the specified element from the set.\n",
        "\n",
        "\n",
        "* <code>remove()</code> takes the element as an argument."
      ]
    },
    {
      "cell_type": "code",
      "metadata": {
        "id": "yRW6CHCix2yU"
      },
      "source": [
        "non_empty_set = {1,5,6,73,2}"
      ],
      "execution_count": 64,
      "outputs": []
    },
    {
      "cell_type": "code",
      "metadata": {
        "id": "UlzYv0oqx2yb"
      },
      "source": [
        "non_empty_set.remove(5)"
      ],
      "execution_count": 65,
      "outputs": []
    },
    {
      "cell_type": "code",
      "metadata": {
        "id": "2ZdpesQJx2yd",
        "colab": {
          "base_uri": "https://localhost:8080/"
        },
        "outputId": "9160e063-70fb-4198-99fc-b7cc02001160"
      },
      "source": [
        "non_empty_set"
      ],
      "execution_count": 66,
      "outputs": [
        {
          "output_type": "execute_result",
          "data": {
            "text/plain": [
              "{1, 2, 6, 73}"
            ]
          },
          "metadata": {},
          "execution_count": 66
        }
      ]
    },
    {
      "cell_type": "code",
      "metadata": {
        "id": "JfaKZ5uex2ye",
        "colab": {
          "base_uri": "https://localhost:8080/",
          "height": 175
        },
        "outputId": "915b5793-8eb0-49b1-e1ae-be8efb993f41"
      },
      "source": [
        "non_empty_set.remove(45)"
      ],
      "execution_count": 67,
      "outputs": [
        {
          "output_type": "error",
          "ename": "KeyError",
          "evalue": "ignored",
          "traceback": [
            "\u001b[0;31m---------------------------------------------------------------------------\u001b[0m",
            "\u001b[0;31mKeyError\u001b[0m                                  Traceback (most recent call last)",
            "\u001b[0;32m<ipython-input-67-a4e6701c6396>\u001b[0m in \u001b[0;36m<cell line: 1>\u001b[0;34m()\u001b[0m\n\u001b[0;32m----> 1\u001b[0;31m \u001b[0mnon_empty_set\u001b[0m\u001b[0;34m.\u001b[0m\u001b[0mremove\u001b[0m\u001b[0;34m(\u001b[0m\u001b[0;36m45\u001b[0m\u001b[0;34m)\u001b[0m\u001b[0;34m\u001b[0m\u001b[0;34m\u001b[0m\u001b[0m\n\u001b[0m",
            "\u001b[0;31mKeyError\u001b[0m: 45"
          ]
        }
      ]
    },
    {
      "cell_type": "markdown",
      "metadata": {
        "id": "4WyPacOmx2yg"
      },
      "source": [
        "* <code>remove()</code> throws an error when we try to remove an element which is not present in the set"
      ]
    },
    {
      "cell_type": "markdown",
      "metadata": {
        "id": "J78K33lKx2yh"
      },
      "source": [
        "### <code>union()</code>\n",
        "\n",
        "\n",
        "* <code>union()</code> method returns the union of two sets\n",
        "\n",
        "\n",
        "* Also denoted by the operator <code>|</code>"
      ]
    },
    {
      "cell_type": "code",
      "metadata": {
        "id": "5PsHlxXvx2yh"
      },
      "source": [
        "# Initialize sets A and B\n",
        "A = {1, 2, 3, 4, 5}\n",
        "B = {4, 5, 6, 7, 8}"
      ],
      "execution_count": 68,
      "outputs": []
    },
    {
      "cell_type": "code",
      "metadata": {
        "id": "xb3dKUDdx2yi",
        "colab": {
          "base_uri": "https://localhost:8080/"
        },
        "outputId": "6bf289ae-382e-48d2-e937-f066ae8bf98b"
      },
      "source": [
        "A.union(B)"
      ],
      "execution_count": 69,
      "outputs": [
        {
          "output_type": "execute_result",
          "data": {
            "text/plain": [
              "{1, 2, 3, 4, 5, 6, 7, 8}"
            ]
          },
          "metadata": {},
          "execution_count": 69
        }
      ]
    },
    {
      "cell_type": "code",
      "metadata": {
        "colab": {
          "base_uri": "https://localhost:8080/"
        },
        "id": "LEnTk73BlUvM",
        "outputId": "358b996a-5575-4375-f635-1a59e0dff041"
      },
      "source": [
        "A"
      ],
      "execution_count": 70,
      "outputs": [
        {
          "output_type": "execute_result",
          "data": {
            "text/plain": [
              "{1, 2, 3, 4, 5}"
            ]
          },
          "metadata": {},
          "execution_count": 70
        }
      ]
    },
    {
      "cell_type": "code",
      "metadata": {
        "id": "5eiCPbm3x2yk",
        "colab": {
          "base_uri": "https://localhost:8080/"
        },
        "outputId": "2b9e379f-9d30-4b65-9fd2-881a6fefecf6"
      },
      "source": [
        "# Also denoted by the operator |\n",
        "A | B"
      ],
      "execution_count": 71,
      "outputs": [
        {
          "output_type": "execute_result",
          "data": {
            "text/plain": [
              "{1, 2, 3, 4, 5, 6, 7, 8}"
            ]
          },
          "metadata": {},
          "execution_count": 71
        }
      ]
    },
    {
      "cell_type": "markdown",
      "metadata": {
        "id": "-imPGLIHx2ym"
      },
      "source": [
        "### <code>intersection()</code>\n",
        "\n",
        "\n",
        "* <code>intersection()</code> method returns the intersection of two sets\n",
        "\n",
        "\n",
        "* Also denoted by the operator <code>&</code>"
      ]
    },
    {
      "cell_type": "code",
      "metadata": {
        "id": "CEiWFkplx2ym"
      },
      "source": [
        "A = {1, 2, 3, 4, 5}\n",
        "B = {4, 5, 6, 7, 8}"
      ],
      "execution_count": 72,
      "outputs": []
    },
    {
      "cell_type": "code",
      "metadata": {
        "id": "1ycxjihUx2yn",
        "colab": {
          "base_uri": "https://localhost:8080/"
        },
        "outputId": "dcea261c-1d13-4ae0-a144-d3791a935ac2"
      },
      "source": [
        "A.intersection(B)"
      ],
      "execution_count": 73,
      "outputs": [
        {
          "output_type": "execute_result",
          "data": {
            "text/plain": [
              "{4, 5}"
            ]
          },
          "metadata": {},
          "execution_count": 73
        }
      ]
    },
    {
      "cell_type": "code",
      "metadata": {
        "id": "GalM9H1ax2yp",
        "colab": {
          "base_uri": "https://localhost:8080/"
        },
        "outputId": "a82d3084-0653-4163-e806-8175363d5f40"
      },
      "source": [
        "# Also denoted by the operator &\n",
        "A & B"
      ],
      "execution_count": 74,
      "outputs": [
        {
          "output_type": "execute_result",
          "data": {
            "text/plain": [
              "{4, 5}"
            ]
          },
          "metadata": {},
          "execution_count": 74
        }
      ]
    },
    {
      "cell_type": "markdown",
      "metadata": {
        "id": "nJm-OfZDx2yq"
      },
      "source": [
        "### <code>difference()</code>\n",
        "\n",
        "\n",
        "* <code>difference()</code> method returns the difference of two sets\n",
        "\n",
        "\n",
        "* Difference of the set <code>B</code> from set <code>A</code> i.e, <code>(A - B)</code> is a set of elements that are only in <code>A</code> but not in <code>B</code>\n",
        "\n",
        "\n",
        "* Also denoted by the operator <code>-</code>"
      ]
    },
    {
      "cell_type": "code",
      "metadata": {
        "id": "bggwzeTCx2yq"
      },
      "source": [
        "A = {1, 2, 3, 4, 5}\n",
        "B = {4, 5, 6, 7, 8}"
      ],
      "execution_count": 75,
      "outputs": []
    },
    {
      "cell_type": "code",
      "metadata": {
        "id": "wj1pQh3Ex2ys",
        "colab": {
          "base_uri": "https://localhost:8080/"
        },
        "outputId": "0aece32f-3e86-4a7e-8947-b7b479ab1b24"
      },
      "source": [
        "A.difference(B)"
      ],
      "execution_count": 76,
      "outputs": [
        {
          "output_type": "execute_result",
          "data": {
            "text/plain": [
              "{1, 2, 3}"
            ]
          },
          "metadata": {},
          "execution_count": 76
        }
      ]
    },
    {
      "cell_type": "code",
      "metadata": {
        "id": "0DgHo42ax2yv",
        "colab": {
          "base_uri": "https://localhost:8080/"
        },
        "outputId": "11058d4d-0803-45fe-c63f-69ec29fd911e"
      },
      "source": [
        "# Also denoted by the operator -\n",
        "A - B"
      ],
      "execution_count": 77,
      "outputs": [
        {
          "output_type": "execute_result",
          "data": {
            "text/plain": [
              "{1, 2, 3}"
            ]
          },
          "metadata": {},
          "execution_count": 77
        }
      ]
    },
    {
      "cell_type": "code",
      "metadata": {
        "id": "6252HLbjx2yw",
        "colab": {
          "base_uri": "https://localhost:8080/"
        },
        "outputId": "c4afcfa4-05ca-441e-a1d8-2195c50e6770"
      },
      "source": [
        "B.difference(A)"
      ],
      "execution_count": 78,
      "outputs": [
        {
          "output_type": "execute_result",
          "data": {
            "text/plain": [
              "{6, 7, 8}"
            ]
          },
          "metadata": {},
          "execution_count": 78
        }
      ]
    },
    {
      "cell_type": "code",
      "metadata": {
        "id": "UXeArQih9-KX",
        "colab": {
          "base_uri": "https://localhost:8080/"
        },
        "outputId": "647f0cbe-187b-4c9c-e04e-ffbc69022779"
      },
      "source": [
        "B - A"
      ],
      "execution_count": 79,
      "outputs": [
        {
          "output_type": "execute_result",
          "data": {
            "text/plain": [
              "{6, 7, 8}"
            ]
          },
          "metadata": {},
          "execution_count": 79
        }
      ]
    },
    {
      "cell_type": "markdown",
      "metadata": {
        "id": "syQXm4jBx2yx"
      },
      "source": [
        "### <code>symmetric_difference()</code>\n",
        "\n",
        "\n",
        "* <code>symmetric_difference()</code> method returns the set of elements in A and B but not in both (excluding the intersection)\n",
        "\n",
        "\n",
        "* Also denoted by the operator <code>^</code>"
      ]
    },
    {
      "cell_type": "code",
      "metadata": {
        "id": "EVPLdfe6x2yx"
      },
      "source": [
        "A = {1, 2, 3, 4, 5}\n",
        "B = {4, 5, 6, 7, 8}"
      ],
      "execution_count": 80,
      "outputs": []
    },
    {
      "cell_type": "code",
      "metadata": {
        "id": "FLdL9n9nx2yz",
        "colab": {
          "base_uri": "https://localhost:8080/"
        },
        "outputId": "264e6df1-884c-49cd-86d4-a54efaab3dea"
      },
      "source": [
        "A.symmetric_difference(B)"
      ],
      "execution_count": 81,
      "outputs": [
        {
          "output_type": "execute_result",
          "data": {
            "text/plain": [
              "{1, 2, 3, 6, 7, 8}"
            ]
          },
          "metadata": {},
          "execution_count": 81
        }
      ]
    },
    {
      "cell_type": "code",
      "metadata": {
        "id": "yetEV2k1x2y1",
        "colab": {
          "base_uri": "https://localhost:8080/"
        },
        "outputId": "c441f7da-f3ad-429b-a448-3ed1816b6ac1"
      },
      "source": [
        "A^B"
      ],
      "execution_count": 82,
      "outputs": [
        {
          "output_type": "execute_result",
          "data": {
            "text/plain": [
              "{1, 2, 3, 6, 7, 8}"
            ]
          },
          "metadata": {},
          "execution_count": 82
        }
      ]
    },
    {
      "cell_type": "markdown",
      "metadata": {
        "id": "wLDBvDUix2y3"
      },
      "source": [
        "# Dictionaries\n",
        "\n",
        "* We've been learning about *sequences* in Python but now we're going to switch gears and learn about *mappings* in Python.\n",
        "\n",
        "\n",
        "* If you're familiar with other languages you can think of these Dictionaries as hash tables.\n",
        "\n",
        "\n",
        "* So what are mappings? Mappings are a collection of objects that are stored by a *key*, unlike a sequence that stored objects by their relative position. This is an important distinction, since mappings won't retain order since they have objects defined by a key.\n",
        "\n",
        "\n",
        "* A Python dictionary consists of a key and then an associated value. That value can be almost any Python object. So a dictionary object always has elements as key-value pairs\n",
        "\n",
        "\n",
        "## Constructing a Dictionary\n",
        "\n",
        "\n",
        "* A dictionary object is constructed using curly braces <code>{key1:value1,key2:value2,key3:value3}</code>"
      ]
    },
    {
      "cell_type": "code",
      "metadata": {
        "id": "IPVt8pQ1x2y4"
      },
      "source": [
        "# Make a dictionary with {} and : to signify a key and a value\n",
        "marvel_dict = {'Name':'Thor','Place':'Asgard','Weapon' : 'Hammer', 1:2, 3 : 'power', 'alibies' : ['Ironman','Captain America'], 'abc' : {1:2, 4:5}}"
      ],
      "execution_count": 83,
      "outputs": []
    },
    {
      "cell_type": "code",
      "metadata": {
        "id": "zUigu-Eox2y5"
      },
      "source": [
        "# Call values by their key\n",
        "marvel_dict['Place']"
      ],
      "execution_count": null,
      "outputs": []
    },
    {
      "cell_type": "code",
      "metadata": {
        "colab": {
          "base_uri": "https://localhost:8080/"
        },
        "id": "bQT7_8HqpdmX",
        "outputId": "225aa71f-e5f9-45aa-a07d-e8b69c0c78de"
      },
      "source": [
        "type(marvel_dict)"
      ],
      "execution_count": 85,
      "outputs": [
        {
          "output_type": "execute_result",
          "data": {
            "text/plain": [
              "dict"
            ]
          },
          "metadata": {},
          "execution_count": 85
        }
      ]
    },
    {
      "cell_type": "code",
      "metadata": {
        "id": "JakXpRcqx2y7",
        "colab": {
          "base_uri": "https://localhost:8080/",
          "height": 36
        },
        "outputId": "e8137476-2a33-459a-9663-34e90b4099a6"
      },
      "source": [
        "marvel_dict['Name']"
      ],
      "execution_count": 86,
      "outputs": [
        {
          "output_type": "execute_result",
          "data": {
            "text/plain": [
              "'Thor'"
            ],
            "application/vnd.google.colaboratory.intrinsic+json": {
              "type": "string"
            }
          },
          "metadata": {},
          "execution_count": 86
        }
      ]
    },
    {
      "cell_type": "code",
      "metadata": {
        "colab": {
          "base_uri": "https://localhost:8080/",
          "height": 175
        },
        "id": "3VuNvGrQsC1o",
        "outputId": "8f8250cc-2d20-4ac4-bcb5-f69d33a61108"
      },
      "source": [
        "marvel_dict['Random']"
      ],
      "execution_count": 87,
      "outputs": [
        {
          "output_type": "error",
          "ename": "KeyError",
          "evalue": "ignored",
          "traceback": [
            "\u001b[0;31m---------------------------------------------------------------------------\u001b[0m",
            "\u001b[0;31mKeyError\u001b[0m                                  Traceback (most recent call last)",
            "\u001b[0;32m<ipython-input-87-9f68b85bbfcd>\u001b[0m in \u001b[0;36m<cell line: 1>\u001b[0;34m()\u001b[0m\n\u001b[0;32m----> 1\u001b[0;31m \u001b[0mmarvel_dict\u001b[0m\u001b[0;34m[\u001b[0m\u001b[0;34m'Random'\u001b[0m\u001b[0;34m]\u001b[0m\u001b[0;34m\u001b[0m\u001b[0;34m\u001b[0m\u001b[0m\n\u001b[0m",
            "\u001b[0;31mKeyError\u001b[0m: 'Random'"
          ]
        }
      ]
    },
    {
      "cell_type": "code",
      "metadata": {
        "id": "NZwP-63z_k3c",
        "colab": {
          "base_uri": "https://localhost:8080/",
          "height": 36
        },
        "outputId": "e1c6cf86-b5f2-4a48-ab6a-1365bfb48bd7"
      },
      "source": [
        "marvel_dict['Weapon']"
      ],
      "execution_count": 88,
      "outputs": [
        {
          "output_type": "execute_result",
          "data": {
            "text/plain": [
              "'Hammer'"
            ],
            "application/vnd.google.colaboratory.intrinsic+json": {
              "type": "string"
            }
          },
          "metadata": {},
          "execution_count": 88
        }
      ]
    },
    {
      "cell_type": "code",
      "metadata": {
        "id": "lRWRAg0U_0tM",
        "colab": {
          "base_uri": "https://localhost:8080/"
        },
        "outputId": "5ff665a7-521b-4198-b3f5-394b73294f60"
      },
      "source": [
        "marvel_dict['alibies']"
      ],
      "execution_count": 89,
      "outputs": [
        {
          "output_type": "execute_result",
          "data": {
            "text/plain": [
              "['Ironman', 'Captain America']"
            ]
          },
          "metadata": {},
          "execution_count": 89
        }
      ]
    },
    {
      "cell_type": "code",
      "metadata": {
        "id": "e7fpRgtMAaSZ",
        "colab": {
          "base_uri": "https://localhost:8080/"
        },
        "outputId": "7dfb9dc5-3fc7-488d-d85f-eba5a34199fe"
      },
      "source": [
        "type(marvel_dict['abc'])"
      ],
      "execution_count": 90,
      "outputs": [
        {
          "output_type": "execute_result",
          "data": {
            "text/plain": [
              "dict"
            ]
          },
          "metadata": {},
          "execution_count": 90
        }
      ]
    },
    {
      "cell_type": "markdown",
      "metadata": {
        "id": "J44Z9VfMx2y9"
      },
      "source": [
        "## Dictionary Methods"
      ]
    },
    {
      "cell_type": "markdown",
      "metadata": {
        "id": "uL7e7NDox2y9"
      },
      "source": [
        "### <code>keys()</code>\n",
        "\n",
        "\n",
        "* <code>keys()</code> method returns the list of keys in the dictionary object"
      ]
    },
    {
      "cell_type": "code",
      "metadata": {
        "colab": {
          "base_uri": "https://localhost:8080/"
        },
        "id": "d-MXIbRwqcS1",
        "outputId": "d53de5bf-845a-4f49-d71c-e1afe9d771e5"
      },
      "source": [
        "marvel_dict.keys()"
      ],
      "execution_count": 91,
      "outputs": [
        {
          "output_type": "execute_result",
          "data": {
            "text/plain": [
              "dict_keys(['Name', 'Place', 'Weapon', 1, 3, 'alibies', 'abc'])"
            ]
          },
          "metadata": {},
          "execution_count": 91
        }
      ]
    },
    {
      "cell_type": "code",
      "source": [
        "marvel_dict.keys()"
      ],
      "metadata": {
        "id": "K1DJvJtXQAfW",
        "outputId": "28efb3e9-0122-4be0-b442-defbd3372f18",
        "colab": {
          "base_uri": "https://localhost:8080/"
        }
      },
      "execution_count": 96,
      "outputs": [
        {
          "output_type": "execute_result",
          "data": {
            "text/plain": [
              "dict_keys(['Name', 'Place', 'Weapon', 1, 3, 'alibies', 'abc'])"
            ]
          },
          "metadata": {},
          "execution_count": 96
        }
      ]
    },
    {
      "cell_type": "code",
      "metadata": {
        "id": "mRev-noZx2y9",
        "colab": {
          "base_uri": "https://localhost:8080/"
        },
        "outputId": "263922e1-e8a6-4a37-c9ae-3f3c8819cf95"
      },
      "source": [
        "list(marvel_dict.keys())"
      ],
      "execution_count": 92,
      "outputs": [
        {
          "output_type": "execute_result",
          "data": {
            "text/plain": [
              "['Name', 'Place', 'Weapon', 1, 3, 'alibies', 'abc']"
            ]
          },
          "metadata": {},
          "execution_count": 92
        }
      ]
    },
    {
      "cell_type": "markdown",
      "metadata": {
        "id": "tUaGyAtdx2y_"
      },
      "source": [
        "### <code>values()</code>\n",
        "\n",
        "* <code>values()</code> method returns the list of values in the dictionary object"
      ]
    },
    {
      "cell_type": "code",
      "metadata": {
        "id": "phxxN3b2BI21",
        "colab": {
          "base_uri": "https://localhost:8080/"
        },
        "outputId": "0f800276-23bf-45fa-bf79-fec57448a723"
      },
      "source": [
        "print(marvel_dict)"
      ],
      "execution_count": 93,
      "outputs": [
        {
          "output_type": "stream",
          "name": "stdout",
          "text": [
            "{'Name': 'Thor', 'Place': 'Asgard', 'Weapon': 'Hammer', 1: 2, 3: 'power', 'alibies': ['Ironman', 'Captain America'], 'abc': {1: 2, 4: 5}}\n"
          ]
        }
      ]
    },
    {
      "cell_type": "code",
      "source": [
        "marvel_dict.values()"
      ],
      "metadata": {
        "id": "Mq_OvswoP7mj",
        "outputId": "0001ba9f-6066-4939-d769-69a70bf9e069",
        "colab": {
          "base_uri": "https://localhost:8080/"
        }
      },
      "execution_count": 95,
      "outputs": [
        {
          "output_type": "execute_result",
          "data": {
            "text/plain": [
              "dict_values(['Thor', 'Asgard', 'Hammer', 2, 'power', ['Ironman', 'Captain America'], {1: 2, 4: 5}])"
            ]
          },
          "metadata": {},
          "execution_count": 95
        }
      ]
    },
    {
      "cell_type": "code",
      "metadata": {
        "id": "18imvm1tx2zA",
        "colab": {
          "base_uri": "https://localhost:8080/"
        },
        "outputId": "7dfaf30f-4db5-4d1b-f1b5-6e53389cf15c"
      },
      "source": [
        "list(marvel_dict.values())"
      ],
      "execution_count": 94,
      "outputs": [
        {
          "output_type": "execute_result",
          "data": {
            "text/plain": [
              "['Thor',\n",
              " 'Asgard',\n",
              " 'Hammer',\n",
              " 2,\n",
              " 'power',\n",
              " ['Ironman', 'Captain America'],\n",
              " {1: 2, 4: 5}]"
            ]
          },
          "metadata": {},
          "execution_count": 94
        }
      ]
    },
    {
      "cell_type": "markdown",
      "metadata": {
        "id": "_nSqsOiax2zB"
      },
      "source": [
        "### <code>items()</code>\n",
        "\n",
        "\n",
        "* <code>items()</code> method returns the list of the keys and values"
      ]
    },
    {
      "cell_type": "code",
      "source": [
        "marvel_dict.items()"
      ],
      "metadata": {
        "id": "F-flQBa9QO-W",
        "outputId": "f1c5360c-e6d5-4098-ae9b-801883981098",
        "colab": {
          "base_uri": "https://localhost:8080/"
        }
      },
      "execution_count": 98,
      "outputs": [
        {
          "output_type": "execute_result",
          "data": {
            "text/plain": [
              "dict_items([('Name', 'Thor'), ('Place', 'Asgard'), ('Weapon', 'Hammer'), (1, 2), (3, 'power'), ('alibies', ['Ironman', 'Captain America']), ('abc', {1: 2, 4: 5})])"
            ]
          },
          "metadata": {},
          "execution_count": 98
        }
      ]
    },
    {
      "cell_type": "code",
      "metadata": {
        "id": "JHqnsUctx2zB",
        "colab": {
          "base_uri": "https://localhost:8080/"
        },
        "outputId": "7502491b-9e41-4cf3-97ba-1b67f0e689b5"
      },
      "source": [
        "# Get the keys and their corresponding values\n",
        "list(marvel_dict.items())"
      ],
      "execution_count": 97,
      "outputs": [
        {
          "output_type": "execute_result",
          "data": {
            "text/plain": [
              "[('Name', 'Thor'),\n",
              " ('Place', 'Asgard'),\n",
              " ('Weapon', 'Hammer'),\n",
              " (1, 2),\n",
              " (3, 'power'),\n",
              " ('alibies', ['Ironman', 'Captain America']),\n",
              " ('abc', {1: 2, 4: 5})]"
            ]
          },
          "metadata": {},
          "execution_count": 97
        }
      ]
    },
    {
      "cell_type": "markdown",
      "metadata": {
        "id": "rOJcYnxYx2zE"
      },
      "source": [
        "* We can also use the <code>get()</code> method to extract a particular value of key-value pair.\n"
      ]
    },
    {
      "cell_type": "code",
      "metadata": {
        "id": "VH3-a6Ykx2zE",
        "colab": {
          "base_uri": "https://localhost:8080/",
          "height": 36
        },
        "outputId": "22efd4fb-8ecf-48e6-90be-23a67bd913e5"
      },
      "source": [
        "marvel_dict.get('Place')"
      ],
      "execution_count": 99,
      "outputs": [
        {
          "output_type": "execute_result",
          "data": {
            "text/plain": [
              "'Asgard'"
            ],
            "application/vnd.google.colaboratory.intrinsic+json": {
              "type": "string"
            }
          },
          "metadata": {},
          "execution_count": 99
        }
      ]
    },
    {
      "cell_type": "markdown",
      "metadata": {
        "id": "WsRmOWzVx2zG"
      },
      "source": [
        "### <code>get()</code>\n",
        "\n",
        "* <code>get()</code> method takes the key as an argument and returns None if the key is not found in the dictionary.\n",
        "\n",
        "\n",
        "* We can also set the value to return if a key is not found. This will be passed as the second argument in <code>get()</code>"
      ]
    },
    {
      "cell_type": "code",
      "metadata": {
        "id": "hHnXdwNNx2zG",
        "colab": {
          "base_uri": "https://localhost:8080/",
          "height": 36
        },
        "outputId": "e7daad51-7448-4ea7-c2dd-b31b3b4c0c67"
      },
      "source": [
        "marvel_dict.get('Place')"
      ],
      "execution_count": 100,
      "outputs": [
        {
          "output_type": "execute_result",
          "data": {
            "text/plain": [
              "'Asgard'"
            ],
            "application/vnd.google.colaboratory.intrinsic+json": {
              "type": "string"
            }
          },
          "metadata": {},
          "execution_count": 100
        }
      ]
    },
    {
      "cell_type": "code",
      "metadata": {
        "id": "rAS9es6osPNX"
      },
      "source": [
        "marvel_dict.get('Random')"
      ],
      "execution_count": 104,
      "outputs": []
    },
    {
      "cell_type": "code",
      "metadata": {
        "id": "ociIf394sPLE"
      },
      "source": [],
      "execution_count": null,
      "outputs": []
    },
    {
      "cell_type": "code",
      "metadata": {
        "id": "-wqYpb0Ox2zI",
        "colab": {
          "base_uri": "https://localhost:8080/",
          "height": 36
        },
        "outputId": "85dbb8b7-37a3-4bef-9054-f16ac38b9e49"
      },
      "source": [
        "marvel_dict.get('Random','Not Found')"
      ],
      "execution_count": 102,
      "outputs": [
        {
          "output_type": "execute_result",
          "data": {
            "text/plain": [
              "'Not Found'"
            ],
            "application/vnd.google.colaboratory.intrinsic+json": {
              "type": "string"
            }
          },
          "metadata": {},
          "execution_count": 102
        }
      ]
    },
    {
      "cell_type": "code",
      "metadata": {
        "id": "365bYlMJx2zJ",
        "colab": {
          "base_uri": "https://localhost:8080/",
          "height": 175
        },
        "outputId": "13f1d407-bb1d-4f21-c757-737f74ab979c"
      },
      "source": [
        "marvel_dict['friend']"
      ],
      "execution_count": 103,
      "outputs": [
        {
          "output_type": "error",
          "ename": "KeyError",
          "evalue": "ignored",
          "traceback": [
            "\u001b[0;31m---------------------------------------------------------------------------\u001b[0m",
            "\u001b[0;31mKeyError\u001b[0m                                  Traceback (most recent call last)",
            "\u001b[0;32m<ipython-input-103-6d5748fd78c2>\u001b[0m in \u001b[0;36m<cell line: 1>\u001b[0;34m()\u001b[0m\n\u001b[0;32m----> 1\u001b[0;31m \u001b[0mmarvel_dict\u001b[0m\u001b[0;34m[\u001b[0m\u001b[0;34m'friend'\u001b[0m\u001b[0;34m]\u001b[0m\u001b[0;34m\u001b[0m\u001b[0;34m\u001b[0m\u001b[0m\n\u001b[0m",
            "\u001b[0;31mKeyError\u001b[0m: 'friend'"
          ]
        }
      ]
    },
    {
      "cell_type": "markdown",
      "metadata": {
        "id": "zcMn2Wd-x2zL"
      },
      "source": [
        "Its important to note that dictionaries are very flexible in the data types they can hold. For example:"
      ]
    },
    {
      "cell_type": "code",
      "metadata": {
        "id": "jtF14Xqxx2zL"
      },
      "source": [
        "employee_dict = {'Name':'Sanket','Skills':['Python','Machine Learning','Deep Learning'],'Band':6.0,'Promotion Year':[2016,2018,2020]}"
      ],
      "execution_count": 105,
      "outputs": []
    },
    {
      "cell_type": "code",
      "metadata": {
        "id": "TBmOrJKlCx4A",
        "colab": {
          "base_uri": "https://localhost:8080/"
        },
        "outputId": "ed37f897-1c14-40fa-f652-f092b32d6720"
      },
      "source": [
        "len(employee_dict.keys())"
      ],
      "execution_count": 106,
      "outputs": [
        {
          "output_type": "execute_result",
          "data": {
            "text/plain": [
              "4"
            ]
          },
          "metadata": {},
          "execution_count": 106
        }
      ]
    },
    {
      "cell_type": "code",
      "metadata": {
        "id": "_RpBYW0Qx2zM",
        "outputId": "d4667b9f-0a09-4f06-8c71-72fcec905976",
        "colab": {
          "base_uri": "https://localhost:8080/"
        }
      },
      "source": [
        "# Let's call items from the dictionary\n",
        "employee_dict['Skills']"
      ],
      "execution_count": 107,
      "outputs": [
        {
          "output_type": "execute_result",
          "data": {
            "text/plain": [
              "['Python', 'Machine Learning', 'Deep Learning']"
            ]
          },
          "metadata": {},
          "execution_count": 107
        }
      ]
    },
    {
      "cell_type": "code",
      "metadata": {
        "id": "u1mgrdHnx2zN",
        "outputId": "5f25e8f1-b671-4e04-8662-fec770f6b667",
        "colab": {
          "base_uri": "https://localhost:8080/",
          "height": 36
        }
      },
      "source": [
        "# Can call an index on that value\n",
        "employee_dict['Skills'][0]"
      ],
      "execution_count": 108,
      "outputs": [
        {
          "output_type": "execute_result",
          "data": {
            "text/plain": [
              "'Python'"
            ],
            "application/vnd.google.colaboratory.intrinsic+json": {
              "type": "string"
            }
          },
          "metadata": {},
          "execution_count": 108
        }
      ]
    },
    {
      "cell_type": "code",
      "metadata": {
        "id": "YT7M9CoMx2zP",
        "colab": {
          "base_uri": "https://localhost:8080/",
          "height": 36
        },
        "outputId": "42578b36-d9d6-4a73-8130-61965ad71a57"
      },
      "source": [
        "# Can then even call methods on that value\n",
        "employee_dict['Skills'][0].upper()"
      ],
      "execution_count": 109,
      "outputs": [
        {
          "output_type": "execute_result",
          "data": {
            "text/plain": [
              "'PYTHON'"
            ],
            "application/vnd.google.colaboratory.intrinsic+json": {
              "type": "string"
            }
          },
          "metadata": {},
          "execution_count": 109
        }
      ]
    },
    {
      "cell_type": "code",
      "metadata": {
        "id": "dcEo2ZqSx2zQ"
      },
      "source": [
        "# Add a new key\n",
        "\n",
        "employee_dict['Designation'] ='Senior Data Scientist'"
      ],
      "execution_count": 110,
      "outputs": []
    },
    {
      "cell_type": "code",
      "metadata": {
        "id": "I_VxhEd_x2zR",
        "colab": {
          "base_uri": "https://localhost:8080/"
        },
        "outputId": "969aa14a-6f75-402f-cb46-1b9b185bc722"
      },
      "source": [
        "employee_dict"
      ],
      "execution_count": 111,
      "outputs": [
        {
          "output_type": "execute_result",
          "data": {
            "text/plain": [
              "{'Name': 'Sanket',\n",
              " 'Skills': ['Python', 'Machine Learning', 'Deep Learning'],\n",
              " 'Band': 6.0,\n",
              " 'Promotion Year': [2016, 2018, 2020],\n",
              " 'Designation': 'Senior Data Scientist'}"
            ]
          },
          "metadata": {},
          "execution_count": 111
        }
      ]
    },
    {
      "cell_type": "markdown",
      "metadata": {
        "id": "KdEUV4J3x2zT"
      },
      "source": [
        "### <code>update()</code>\n",
        "\n",
        "* You can add an element which is a key-value pair using the <code>update()</code> method\n",
        "\n",
        "* This method takes a dictionary as an argument"
      ]
    },
    {
      "cell_type": "code",
      "metadata": {
        "id": "FEGkoCDBx2zT"
      },
      "source": [
        "employee_dict.update({'Salary':'2,000,000'})"
      ],
      "execution_count": 112,
      "outputs": []
    },
    {
      "cell_type": "code",
      "metadata": {
        "id": "MzCAighVx2zW",
        "colab": {
          "base_uri": "https://localhost:8080/"
        },
        "outputId": "0320fdde-42e0-459a-a2cc-f05276320417"
      },
      "source": [
        "employee_dict"
      ],
      "execution_count": 113,
      "outputs": [
        {
          "output_type": "execute_result",
          "data": {
            "text/plain": [
              "{'Name': 'Sanket',\n",
              " 'Skills': ['Python', 'Machine Learning', 'Deep Learning'],\n",
              " 'Band': 6.0,\n",
              " 'Promotion Year': [2016, 2018, 2020],\n",
              " 'Designation': 'Senior Data Scientist',\n",
              " 'Salary': '2,000,000'}"
            ]
          },
          "metadata": {},
          "execution_count": 113
        }
      ]
    },
    {
      "cell_type": "markdown",
      "metadata": {
        "id": "vUSkFO6mx2zY"
      },
      "source": [
        "* We can also use the <code>update()</code> method to update the existing values for a key"
      ]
    },
    {
      "cell_type": "code",
      "metadata": {
        "id": "l1DZu6X9x2zY"
      },
      "source": [
        "employee_dict.update({'Name' : 'Varun Saini'})"
      ],
      "execution_count": 114,
      "outputs": []
    },
    {
      "cell_type": "code",
      "metadata": {
        "id": "XEqfvHmxx2zb",
        "colab": {
          "base_uri": "https://localhost:8080/"
        },
        "outputId": "b62b9fa5-bf34-4128-a3a4-e287c768e379"
      },
      "source": [
        "employee_dict"
      ],
      "execution_count": 115,
      "outputs": [
        {
          "output_type": "execute_result",
          "data": {
            "text/plain": [
              "{'Name': 'Varun Saini',\n",
              " 'Skills': ['Python', 'Machine Learning', 'Deep Learning'],\n",
              " 'Band': 6.0,\n",
              " 'Promotion Year': [2016, 2018, 2020],\n",
              " 'Designation': 'Senior Data Scientist',\n",
              " 'Salary': '2,000,000'}"
            ]
          },
          "metadata": {},
          "execution_count": 115
        }
      ]
    },
    {
      "cell_type": "markdown",
      "metadata": {
        "id": "xxQn8kbMx2zc"
      },
      "source": [
        "* We can affect the values of a key as well without the <code>update()</code> method"
      ]
    },
    {
      "cell_type": "code",
      "metadata": {
        "id": "-mEWWbYKx2zc",
        "colab": {
          "base_uri": "https://localhost:8080/",
          "height": 36
        },
        "outputId": "1607b10e-60b3-4f4b-ce7f-6a06505edb96"
      },
      "source": [
        "employee_dict['Name']"
      ],
      "execution_count": 116,
      "outputs": [
        {
          "output_type": "execute_result",
          "data": {
            "text/plain": [
              "'Varun Saini'"
            ],
            "application/vnd.google.colaboratory.intrinsic+json": {
              "type": "string"
            }
          },
          "metadata": {},
          "execution_count": 116
        }
      ]
    },
    {
      "cell_type": "code",
      "metadata": {
        "id": "qichUeBNx2zf"
      },
      "source": [
        "# Subtract 123 from the value\n",
        "employee_dict['Name'] = employee_dict['Name'] + ' ' + 'Raj'"
      ],
      "execution_count": 117,
      "outputs": []
    },
    {
      "cell_type": "code",
      "metadata": {
        "id": "z9grCvhxx2zg",
        "colab": {
          "base_uri": "https://localhost:8080/"
        },
        "outputId": "42d03e82-55c6-4cf7-a0d0-70d6095169bf"
      },
      "source": [
        "#Check\n",
        "employee_dict"
      ],
      "execution_count": 118,
      "outputs": [
        {
          "output_type": "execute_result",
          "data": {
            "text/plain": [
              "{'Name': 'Varun Saini Raj',\n",
              " 'Skills': ['Python', 'Machine Learning', 'Deep Learning'],\n",
              " 'Band': 6.0,\n",
              " 'Promotion Year': [2016, 2018, 2020],\n",
              " 'Designation': 'Senior Data Scientist',\n",
              " 'Salary': '2,000,000'}"
            ]
          },
          "metadata": {},
          "execution_count": 118
        }
      ]
    },
    {
      "cell_type": "markdown",
      "metadata": {
        "id": "Rnlnm59rx2zi"
      },
      "source": [
        "### <code>dict()</code>\n",
        "\n",
        "\n",
        "* We can also create dictionary objects from sequence of items which are pairs. This is done using the <code>dict()</code>method\n",
        "\n",
        "\n",
        "*  <code>dict()</code> function takes the list of paired elements as argument"
      ]
    },
    {
      "cell_type": "code",
      "metadata": {
        "id": "JSOCmifNV_ht"
      },
      "source": [
        "country_list = ['India','Australia','United States','England']\n",
        "city_list = ['New Delhi', 'Canberra' , 'Washington DC','London']"
      ],
      "execution_count": 119,
      "outputs": []
    },
    {
      "cell_type": "code",
      "metadata": {
        "id": "mviLZSi0WSuK"
      },
      "source": [
        "country_city_list = list(zip(country_list,city_list))"
      ],
      "execution_count": 120,
      "outputs": []
    },
    {
      "cell_type": "code",
      "metadata": {
        "colab": {
          "base_uri": "https://localhost:8080/"
        },
        "id": "o_whSlhOWZgG",
        "outputId": "4ad11b2c-0bb3-4575-b4d7-f8a71b6e1de3"
      },
      "source": [
        "country_city_list"
      ],
      "execution_count": 121,
      "outputs": [
        {
          "output_type": "execute_result",
          "data": {
            "text/plain": [
              "[('India', 'New Delhi'),\n",
              " ('Australia', 'Canberra'),\n",
              " ('United States', 'Washington DC'),\n",
              " ('England', 'London')]"
            ]
          },
          "metadata": {},
          "execution_count": 121
        }
      ]
    },
    {
      "cell_type": "code",
      "metadata": {
        "colab": {
          "base_uri": "https://localhost:8080/"
        },
        "id": "vUdlGah7Wcu8",
        "outputId": "95025258-045d-440d-ef41-ed2289e3527d"
      },
      "source": [
        "dict(country_city_list)"
      ],
      "execution_count": 122,
      "outputs": [
        {
          "output_type": "execute_result",
          "data": {
            "text/plain": [
              "{'India': 'New Delhi',\n",
              " 'Australia': 'Canberra',\n",
              " 'United States': 'Washington DC',\n",
              " 'England': 'London'}"
            ]
          },
          "metadata": {},
          "execution_count": 122
        }
      ]
    },
    {
      "cell_type": "code",
      "metadata": {
        "id": "vq5EXr2ex2zi"
      },
      "source": [
        "# Let us create a list of paired tuples\n",
        "country_city_tuples = [('India','New Delhi'),('Australia','Canberra'),('United States','Washington DC'),('England','London')]"
      ],
      "execution_count": 123,
      "outputs": []
    },
    {
      "cell_type": "code",
      "metadata": {
        "id": "-6ObV-KFx2zj"
      },
      "source": [
        "country_city_dict = dict(country_city_tuples)"
      ],
      "execution_count": 124,
      "outputs": []
    },
    {
      "cell_type": "code",
      "metadata": {
        "id": "CQRGpNXJx2zk",
        "colab": {
          "base_uri": "https://localhost:8080/"
        },
        "outputId": "2f0ff201-e576-4a67-a4bc-6d7843030d6a"
      },
      "source": [
        "country_city_dict"
      ],
      "execution_count": 125,
      "outputs": [
        {
          "output_type": "execute_result",
          "data": {
            "text/plain": [
              "{'India': 'New Delhi',\n",
              " 'Australia': 'Canberra',\n",
              " 'United States': 'Washington DC',\n",
              " 'England': 'London'}"
            ]
          },
          "metadata": {},
          "execution_count": 125
        }
      ]
    },
    {
      "cell_type": "markdown",
      "metadata": {
        "id": "IC5NCQkmx2zl"
      },
      "source": [
        "### <code>pop()</code>\n",
        "\n",
        "\n",
        "* <code>pop()</code> method removes and returns an element from a dictionary having the given key.\n",
        "\n",
        "* This method takes two arguments/parameters (i) key - key which is to be searched for removal, (ii) default - value which is to be returned when the key is not in the dictionary"
      ]
    },
    {
      "cell_type": "code",
      "metadata": {
        "colab": {
          "base_uri": "https://localhost:8080/",
          "height": 36
        },
        "id": "bGVEztzUuoNk",
        "outputId": "c289808e-909a-4f7e-cc45-72f163b384d4"
      },
      "source": [
        "country_city_dict.pop('England')"
      ],
      "execution_count": 126,
      "outputs": [
        {
          "output_type": "execute_result",
          "data": {
            "text/plain": [
              "'London'"
            ],
            "application/vnd.google.colaboratory.intrinsic+json": {
              "type": "string"
            }
          },
          "metadata": {},
          "execution_count": 126
        }
      ]
    },
    {
      "cell_type": "code",
      "metadata": {
        "id": "IPNFmS9lusRR",
        "colab": {
          "base_uri": "https://localhost:8080/"
        },
        "outputId": "264c731d-79e2-4b42-f5c3-a575eeae76f8"
      },
      "source": [
        "country_city_dict"
      ],
      "execution_count": 127,
      "outputs": [
        {
          "output_type": "execute_result",
          "data": {
            "text/plain": [
              "{'India': 'New Delhi',\n",
              " 'Australia': 'Canberra',\n",
              " 'United States': 'Washington DC'}"
            ]
          },
          "metadata": {},
          "execution_count": 127
        }
      ]
    },
    {
      "cell_type": "code",
      "metadata": {
        "id": "r6NkuEnlx2zl",
        "colab": {
          "base_uri": "https://localhost:8080/",
          "height": 175
        },
        "outputId": "84cad702-3590-43e0-ea2c-092f7c90143a"
      },
      "source": [
        "element_to_pop = country_city_dict.pop('England')"
      ],
      "execution_count": 128,
      "outputs": [
        {
          "output_type": "error",
          "ename": "KeyError",
          "evalue": "ignored",
          "traceback": [
            "\u001b[0;31m---------------------------------------------------------------------------\u001b[0m",
            "\u001b[0;31mKeyError\u001b[0m                                  Traceback (most recent call last)",
            "\u001b[0;32m<ipython-input-128-f98023b73e7b>\u001b[0m in \u001b[0;36m<cell line: 1>\u001b[0;34m()\u001b[0m\n\u001b[0;32m----> 1\u001b[0;31m \u001b[0melement_to_pop\u001b[0m \u001b[0;34m=\u001b[0m \u001b[0mcountry_city_dict\u001b[0m\u001b[0;34m.\u001b[0m\u001b[0mpop\u001b[0m\u001b[0;34m(\u001b[0m\u001b[0;34m'England'\u001b[0m\u001b[0;34m)\u001b[0m\u001b[0;34m\u001b[0m\u001b[0;34m\u001b[0m\u001b[0m\n\u001b[0m",
            "\u001b[0;31mKeyError\u001b[0m: 'England'"
          ]
        }
      ]
    },
    {
      "cell_type": "code",
      "metadata": {
        "id": "9qxKp-iBx2zn",
        "colab": {
          "base_uri": "https://localhost:8080/",
          "height": 175
        },
        "outputId": "6f84de0a-9ad5-47c3-ab60-b5762ff3e8c3"
      },
      "source": [
        "element_to_pop"
      ],
      "execution_count": 129,
      "outputs": [
        {
          "output_type": "error",
          "ename": "NameError",
          "evalue": "ignored",
          "traceback": [
            "\u001b[0;31m---------------------------------------------------------------------------\u001b[0m",
            "\u001b[0;31mNameError\u001b[0m                                 Traceback (most recent call last)",
            "\u001b[0;32m<ipython-input-129-7389af898c65>\u001b[0m in \u001b[0;36m<cell line: 1>\u001b[0;34m()\u001b[0m\n\u001b[0;32m----> 1\u001b[0;31m \u001b[0melement_to_pop\u001b[0m\u001b[0;34m\u001b[0m\u001b[0;34m\u001b[0m\u001b[0m\n\u001b[0m",
            "\u001b[0;31mNameError\u001b[0m: name 'element_to_pop' is not defined"
          ]
        }
      ]
    },
    {
      "cell_type": "code",
      "metadata": {
        "id": "_1kPkAHwx2zo",
        "colab": {
          "base_uri": "https://localhost:8080/"
        },
        "outputId": "6e5b108e-c61d-43b0-ba16-6ee2b8a79e8a"
      },
      "source": [
        "country_city_dict"
      ],
      "execution_count": 130,
      "outputs": [
        {
          "output_type": "execute_result",
          "data": {
            "text/plain": [
              "{'India': 'New Delhi',\n",
              " 'Australia': 'Canberra',\n",
              " 'United States': 'Washington DC'}"
            ]
          },
          "metadata": {},
          "execution_count": 130
        }
      ]
    },
    {
      "cell_type": "markdown",
      "metadata": {
        "id": "M2AfPxHSx2zp"
      },
      "source": [
        "### We can use the <code>zip()</code> and <code>dict()</code> methods to create a dictionary object from two lists"
      ]
    },
    {
      "cell_type": "code",
      "metadata": {
        "id": "2x3V4Ew2x2zp"
      },
      "source": [
        "name = [\"Manjeet\", \"Nikhil\", \"Shambhavi\"]\n",
        "marks = [40, 50, 60]"
      ],
      "execution_count": 131,
      "outputs": []
    },
    {
      "cell_type": "code",
      "metadata": {
        "id": "ARSqMR2Yx2zq"
      },
      "source": [
        "mapped = zip(name, marks)"
      ],
      "execution_count": 132,
      "outputs": []
    },
    {
      "cell_type": "code",
      "metadata": {
        "id": "j_qa801mx2zs",
        "outputId": "bbf42964-b9ab-4276-fd34-7b7614a3b9a9",
        "colab": {
          "base_uri": "https://localhost:8080/"
        }
      },
      "source": [
        "mapped"
      ],
      "execution_count": 133,
      "outputs": [
        {
          "output_type": "execute_result",
          "data": {
            "text/plain": [
              "<zip at 0x7ef8c9f66c80>"
            ]
          },
          "metadata": {},
          "execution_count": 133
        }
      ]
    },
    {
      "cell_type": "code",
      "metadata": {
        "id": "KOegPhIOx2zu",
        "outputId": "982ec839-25a5-4c0a-d227-a50d7725b528",
        "colab": {
          "base_uri": "https://localhost:8080/"
        }
      },
      "source": [
        "print(dict(mapped))"
      ],
      "execution_count": 134,
      "outputs": [
        {
          "output_type": "stream",
          "name": "stdout",
          "text": [
            "{'Manjeet': 40, 'Nikhil': 50, 'Shambhavi': 60}\n"
          ]
        }
      ]
    },
    {
      "cell_type": "code",
      "metadata": {
        "id": "vVYMZn_Cx2zv"
      },
      "source": [
        "name = [\"Manjeet\", \"Nikhil\", \"Shambhavi\"]\n",
        "marks = [40, 50, 60,80]"
      ],
      "execution_count": 135,
      "outputs": []
    },
    {
      "cell_type": "code",
      "metadata": {
        "id": "cJpurERkx2zw"
      },
      "source": [
        "mapped = zip(name, marks)"
      ],
      "execution_count": 136,
      "outputs": []
    },
    {
      "cell_type": "code",
      "metadata": {
        "id": "huwhblKwx2zz",
        "outputId": "0d219c0d-680f-4298-9113-77066d3f9795",
        "colab": {
          "base_uri": "https://localhost:8080/"
        }
      },
      "source": [
        "print(dict(mapped))"
      ],
      "execution_count": 137,
      "outputs": [
        {
          "output_type": "stream",
          "name": "stdout",
          "text": [
            "{'Manjeet': 40, 'Nikhil': 50, 'Shambhavi': 60}\n"
          ]
        }
      ]
    },
    {
      "cell_type": "code",
      "source": [
        "list('hello')"
      ],
      "metadata": {
        "id": "UrhvW_FWSjIP",
        "outputId": "5f5984cd-20e0-44b4-ade8-fe464af9110b",
        "colab": {
          "base_uri": "https://localhost:8080/"
        }
      },
      "execution_count": 141,
      "outputs": [
        {
          "output_type": "execute_result",
          "data": {
            "text/plain": [
              "['h', 'e', 'l', 'l', 'o']"
            ]
          },
          "metadata": {},
          "execution_count": 141
        }
      ]
    },
    {
      "cell_type": "code",
      "source": [
        "x = 1\n",
        "for i in range(5):\n",
        "    x = x*i\n",
        "print(x)"
      ],
      "metadata": {
        "id": "jOy1FkzLf4SJ",
        "outputId": "3859e8d5-3162-413b-bd70-5ee915870dc2",
        "colab": {
          "base_uri": "https://localhost:8080/"
        }
      },
      "execution_count": 146,
      "outputs": [
        {
          "output_type": "stream",
          "name": "stdout",
          "text": [
            "0\n"
          ]
        }
      ]
    }
  ]
}